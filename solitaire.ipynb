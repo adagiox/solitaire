{
 "cells": [
  {
   "cell_type": "code",
   "execution_count": 40,
   "metadata": {},
   "outputs": [],
   "source": [
    "import sys"
   ]
  },
  {
   "cell_type": "code",
   "execution_count": 78,
   "metadata": {},
   "outputs": [],
   "source": [
    "class Game():\n",
    "    def __init__(self):\n",
    "        self.possible_moves = None\n",
    "        self.draw_pile = None\n",
    "        self.tableau = []\n",
    "        self.face_cards = ['T', 'J', 'Q', 'K']\n",
    "        self.finish_pile = {0:[], 1:[], 2:[], 3:[]}\n",
    "        self.table = {0:{'r':[],'h':[]},1:{'r':[],'h':[]},2:{'r':[],'h':[]},3:{'r':[],'h':[]},4:{'r':[],'h':[]},5:{'r':[],'h':[]},6:{'r':[],'h':[]}}\n",
    "        \n",
    "    # Move to simulation class\n",
    "    def setup(self, starting):\n",
    "        table_starting = starting[:56]\n",
    "        draw_pile = starting[56:]\n",
    "        for i in range(7):\n",
    "            for j in range(i, 7):\n",
    "                self.table[j]['h'].append(table_starting[:2])\n",
    "                table_starting = table_starting[2:]\n",
    "        for i in range(7):\n",
    "            self.table[i]['r'].append(self.table[i]['h'].pop())\n",
    "        for i in range(7):\n",
    "            self.table[i]['h'].reverse()\n",
    "    \n",
    "    # Move to simulation class\n",
    "    def print_game(self):\n",
    "        for i in range(7):\n",
    "            print(f\"{i}  {self.table[i]['r']}  |  {self.table[i]['h']}\")\n",
    "    \n",
    "    # Move to simulation class    \n",
    "    def get_possible_moves(self):\n",
    "        moves = []\n",
    "        if len(draw_pile) > 0:\n",
    "            moves.append(('d','t',1))\n",
    "        else:\n",
    "            moves.append(('t','d',len(tableau)))\n",
    "        for from_stack in range(7):\n",
    "            for num_cards in range(len(table[from_stack]['r'])):\n",
    "                for to_stack in range(7):\n",
    "                    if to_stack == from_stack:\n",
    "                        continue\n",
    "                    move = self.check_move(table[from_stack]['r'][num_cards], table[to_stack]['r'][-1])\n",
    "                    if move is True:\n",
    "                        moves.append((from_stack, to_stack, num_cards+1))\n",
    "        return moves\n",
    "    \n",
    "    # Move to simulation class\n",
    "    def check_move(self, from_card, to_card):\n",
    "        if ((from_card[0] == 'Q' and to_card[0] == 'K') or (from_card[0] == 'J' and to_card[0] == 'Q') or\n",
    "            (from_card[0] == 'T' and to_card[0] == 'J') or (from_card[0] == '9' and to_card[0] == 'T') or\n",
    "            (from_card[0] not in self.face_cards and to_card[0] not in self.face_cards and int(from_card[0])-1 == int(to_card[0]))):\n",
    "            if int(from_card[1]) % 2 != int(to_card[1]) % 2:\n",
    "                return True\n",
    "        return False\n",
    "            \n",
    "class Node():\n",
    "    ''' Simple Node containing an instance of Game class for tree search, will add weights later '''\n",
    "    def __init__(self, parent, game):\n",
    "        self.parent = parent\n",
    "        self.game = game\n",
    "        \n",
    "class Simulation():\n",
    "    def __init__(self):\n",
    "        self.tree = None\n",
    "    \n",
    "    def do_moves():\n",
    "        pass"
   ]
  },
  {
   "cell_type": "code",
   "execution_count": 79,
   "metadata": {},
   "outputs": [
    {
     "name": "stdout",
     "output_type": "stream",
     "text": [
      "0  ['T4']  |  []\n",
      "1  ['62']  |  ['12']\n",
      "2  ['34']  |  ['82', '13']\n",
      "3  ['93']  |  ['72', 'T2', '64']\n",
      "4  ['54']  |  ['94', '14', '41', '63']\n",
      "5  ['52']  |  ['K4', 'J2', 'K1', '21', 'K3']\n",
      "6  ['31']  |  ['11', 'T1', '81', '22', '43', '24']\n",
      "[('d', 't', 1), (3, 0, 1)]\n"
     ]
    }
   ],
   "source": [
    "g = Game()\n",
    "g.setup('T412136463K3246282T2412143347214K1229394J28154K4T152113132K27392Q183J32342Q484715333T351J4Q2614491Q3J174')\n",
    "g.print_game()\n",
    "# g.get_possible_moves()\n",
    "# head = Node(None, g)\n",
    "# print(head.game.possible_moves)\n"
   ]
  },
  {
   "cell_type": "code",
   "execution_count": null,
   "metadata": {},
   "outputs": [],
   "source": []
  },
  {
   "cell_type": "code",
   "execution_count": null,
   "metadata": {},
   "outputs": [],
   "source": []
  }
 ],
 "metadata": {
  "kernelspec": {
   "display_name": "Python 3",
   "language": "python",
   "name": "python3"
  },
  "language_info": {
   "codemirror_mode": {
    "name": "ipython",
    "version": 3
   },
   "file_extension": ".py",
   "mimetype": "text/x-python",
   "name": "python",
   "nbconvert_exporter": "python",
   "pygments_lexer": "ipython3",
   "version": "3.6.5"
  }
 },
 "nbformat": 4,
 "nbformat_minor": 2
}
