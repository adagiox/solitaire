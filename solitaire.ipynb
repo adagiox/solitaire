{
 "cells": [
  {
   "cell_type": "code",
   "execution_count": 64,
   "metadata": {},
   "outputs": [
    {
     "name": "stdout",
     "output_type": "stream",
     "text": [
      "['T4']  |  []\n",
      "['62']  |  ['12']\n",
      "['34']  |  ['13', '82']\n",
      "['93']  |  ['64', 'T2', '72']\n",
      "['54']  |  ['63', '41', '14', '94']\n",
      "['52']  |  ['K3', '21', 'K1', 'J2', 'K4']\n",
      "['31']  |  ['24', '43', '22', '81', 'T1', '11']\n"
     ]
    }
   ],
   "source": [
    "# move from x to y, z num cards\n",
    "# (x,y,z)\n",
    "# moves = {'t0':}\n",
    "# suites = {}\n",
    "starting = 'T412136463K3246282T2412143347214K1229394J28154K4T152113132K27392Q183J32342Q484715333T351J4Q2614491Q3J174'\n",
    "table_starting = starting[:56]\n",
    "draw_pile = starting[56:]\n",
    "tableau = []\n",
    "finish_pile = {0:[], 1:[], 2:[], 3:[]}\n",
    "table = {0:{'r':[],'h':[]},1:{'r':[],'h':[]},2:{'r':[],'h':[]},3:{'r':[],'h':[]},4:{'r':[],'h':[]},5:{'r':[],'h':[]},6:{'r':[],'h':[]}}\n",
    "for i in range(7):\n",
    "    for j in range(i, 7):\n",
    "        table[j]['h'].append(table_starting[:2])\n",
    "        table_starting = table_starting[2:]\n",
    "for i in range(7):\n",
    "    table[i]['r'].append(table[i]['h'].pop())\n",
    "for i in range(7):\n",
    "    print(table[i]['r'], \" | \", table[i]['h'])"
   ]
  },
  {
   "cell_type": "code",
   "execution_count": 57,
   "metadata": {},
   "outputs": [],
   "source": [
    "def get_next_move()\n",
    "    \n",
    "    return move"
   ]
  }
 ],
 "metadata": {
  "kernelspec": {
   "display_name": "Python 3",
   "language": "python",
   "name": "python3"
  },
  "language_info": {
   "codemirror_mode": {
    "name": "ipython",
    "version": 3
   },
   "file_extension": ".py",
   "mimetype": "text/x-python",
   "name": "python",
   "nbconvert_exporter": "python",
   "pygments_lexer": "ipython3",
   "version": "3.6.5"
  }
 },
 "nbformat": 4,
 "nbformat_minor": 2
}
